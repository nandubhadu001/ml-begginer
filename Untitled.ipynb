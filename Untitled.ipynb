{
  "nbformat": 4,
  "nbformat_minor": 0,
  "metadata": {
    "kernelspec": {
      "display_name": "Python 3",
      "language": "python",
      "name": "python3"
    },
    "language_info": {
      "codemirror_mode": {
        "name": "ipython",
        "version": 3
      },
      "file_extension": ".py",
      "mimetype": "text/x-python",
      "name": "python",
      "nbconvert_exporter": "python",
      "pygments_lexer": "ipython3",
      "version": "3.8.3"
    },
    "colab": {
      "name": "Untitled.ipynb",
      "provenance": [],
      "collapsed_sections": []
    }
  },
  "cells": [
    {
      "cell_type": "code",
      "metadata": {
        "id": "bkz1U5p0Iz9b",
        "colab_type": "code",
        "colab": {}
      },
      "source": [
        "!pip install turicreate"
      ],
      "execution_count": null,
      "outputs": []
    },
    {
      "cell_type": "code",
      "metadata": {
        "id": "UN7hZt83Qxr4",
        "colab_type": "code",
        "colab": {}
      },
      "source": [
        "import numpy as np \n",
        "import pandas as pd\n",
        "import re\n",
        "from sklearn.naive_bayes import MultinomialNB as mnb\n",
        "from sklearn.model_selection import train_test_split as ttf\n",
        "from sklearn.feature_extraction.text import CountVectorizer as cv\n",
        "from sklearn.preprocessing import LabelEncoder as lc"
      ],
      "execution_count": 88,
      "outputs": []
    },
    {
      "cell_type": "code",
      "metadata": {
        "id": "3-U3pU2lIx3S",
        "colab_type": "code",
        "colab": {
          "base_uri": "https://localhost:8080/",
          "height": 434
        },
        "outputId": "c1477e75-0cdf-4f54-8166-b83483b6a5fa"
      },
      "source": [
        "raw_df = pd.read_csv(\"Information.csv\",encoding=\"latin-1\")\n",
        "raw_df.tail()"
      ],
      "execution_count": 80,
      "outputs": [
        {
          "output_type": "execute_result",
          "data": {
            "text/html": [
              "<div>\n",
              "<style scoped>\n",
              "    .dataframe tbody tr th:only-of-type {\n",
              "        vertical-align: middle;\n",
              "    }\n",
              "\n",
              "    .dataframe tbody tr th {\n",
              "        vertical-align: top;\n",
              "    }\n",
              "\n",
              "    .dataframe thead th {\n",
              "        text-align: right;\n",
              "    }\n",
              "</style>\n",
              "<table border=\"1\" class=\"dataframe\">\n",
              "  <thead>\n",
              "    <tr style=\"text-align: right;\">\n",
              "      <th></th>\n",
              "      <th>_unit_id</th>\n",
              "      <th>_golden</th>\n",
              "      <th>_unit_state</th>\n",
              "      <th>_trusted_judgments</th>\n",
              "      <th>_last_judgment_at</th>\n",
              "      <th>gender</th>\n",
              "      <th>gender:confidence</th>\n",
              "      <th>profile_yn</th>\n",
              "      <th>profile_yn:confidence</th>\n",
              "      <th>created</th>\n",
              "      <th>description</th>\n",
              "      <th>fav_number</th>\n",
              "      <th>gender_gold</th>\n",
              "      <th>link_color</th>\n",
              "      <th>name</th>\n",
              "      <th>profile_yn_gold</th>\n",
              "      <th>profileimage</th>\n",
              "      <th>retweet_count</th>\n",
              "      <th>sidebar_color</th>\n",
              "      <th>text</th>\n",
              "      <th>tweet_coord</th>\n",
              "      <th>tweet_count</th>\n",
              "      <th>tweet_created</th>\n",
              "      <th>tweet_id</th>\n",
              "      <th>tweet_location</th>\n",
              "      <th>user_timezone</th>\n",
              "    </tr>\n",
              "  </thead>\n",
              "  <tbody>\n",
              "    <tr>\n",
              "      <th>20045</th>\n",
              "      <td>815757572</td>\n",
              "      <td>True</td>\n",
              "      <td>golden</td>\n",
              "      <td>259</td>\n",
              "      <td>NaN</td>\n",
              "      <td>female</td>\n",
              "      <td>1.0000</td>\n",
              "      <td>yes</td>\n",
              "      <td>1.0</td>\n",
              "      <td>8/5/15 21:16</td>\n",
              "      <td>(rp)</td>\n",
              "      <td>302</td>\n",
              "      <td>female</td>\n",
              "      <td>0084B4</td>\n",
              "      <td>capuletrosa</td>\n",
              "      <td>yes</td>\n",
              "      <td>https://pbs.twimg.com/profile_images/656793310...</td>\n",
              "      <td>0</td>\n",
              "      <td>C0DEED</td>\n",
              "      <td>@lookupondeath ...Fine, and I'll drink tea too...</td>\n",
              "      <td>NaN</td>\n",
              "      <td>783</td>\n",
              "      <td>10/26/15 13:20</td>\n",
              "      <td>6.587400e+17</td>\n",
              "      <td>Verona ªÁ</td>\n",
              "      <td>NaN</td>\n",
              "    </tr>\n",
              "    <tr>\n",
              "      <th>20046</th>\n",
              "      <td>815757681</td>\n",
              "      <td>True</td>\n",
              "      <td>golden</td>\n",
              "      <td>248</td>\n",
              "      <td>NaN</td>\n",
              "      <td>male</td>\n",
              "      <td>1.0000</td>\n",
              "      <td>yes</td>\n",
              "      <td>1.0</td>\n",
              "      <td>8/15/12 21:17</td>\n",
              "      <td>Whatever you like, it's not a problem at all. ...</td>\n",
              "      <td>2513</td>\n",
              "      <td>male</td>\n",
              "      <td>CFB929</td>\n",
              "      <td>BenNight41</td>\n",
              "      <td>yes</td>\n",
              "      <td>https://pbs.twimg.com/profile_images/639815429...</td>\n",
              "      <td>0</td>\n",
              "      <td>0</td>\n",
              "      <td>Greg Hardy you a good player and all but don't...</td>\n",
              "      <td>NaN</td>\n",
              "      <td>13523</td>\n",
              "      <td>10/26/15 12:40</td>\n",
              "      <td>6.587300e+17</td>\n",
              "      <td>Kansas City, MO</td>\n",
              "      <td>NaN</td>\n",
              "    </tr>\n",
              "    <tr>\n",
              "      <th>20047</th>\n",
              "      <td>815757830</td>\n",
              "      <td>True</td>\n",
              "      <td>golden</td>\n",
              "      <td>264</td>\n",
              "      <td>NaN</td>\n",
              "      <td>male</td>\n",
              "      <td>1.0000</td>\n",
              "      <td>yes</td>\n",
              "      <td>1.0</td>\n",
              "      <td>9/3/12 1:17</td>\n",
              "      <td>#TeamBarcelona ..You look lost so you should f...</td>\n",
              "      <td>50</td>\n",
              "      <td>male</td>\n",
              "      <td>0084B4</td>\n",
              "      <td>realuzzyfluxz</td>\n",
              "      <td>yes</td>\n",
              "      <td>https://pbs.twimg.com/profile_images/655473271...</td>\n",
              "      <td>0</td>\n",
              "      <td>C0DEED</td>\n",
              "      <td>You can miss people and still never want to se...</td>\n",
              "      <td>NaN</td>\n",
              "      <td>26419</td>\n",
              "      <td>10/26/15 13:20</td>\n",
              "      <td>6.587400e+17</td>\n",
              "      <td>Lagos Nigeria</td>\n",
              "      <td>NaN</td>\n",
              "    </tr>\n",
              "    <tr>\n",
              "      <th>20048</th>\n",
              "      <td>815757921</td>\n",
              "      <td>True</td>\n",
              "      <td>golden</td>\n",
              "      <td>250</td>\n",
              "      <td>NaN</td>\n",
              "      <td>female</td>\n",
              "      <td>0.8489</td>\n",
              "      <td>yes</td>\n",
              "      <td>1.0</td>\n",
              "      <td>11/6/12 23:46</td>\n",
              "      <td>Anti-statist; I homeschool my kids. Aspiring t...</td>\n",
              "      <td>70804</td>\n",
              "      <td>female</td>\n",
              "      <td>9266CC</td>\n",
              "      <td>argumatronic</td>\n",
              "      <td>yes</td>\n",
              "      <td>https://pbs.twimg.com/profile_images/657716093...</td>\n",
              "      <td>0</td>\n",
              "      <td>0</td>\n",
              "      <td>@bitemyapp i had noticed your tendency to pee ...</td>\n",
              "      <td>NaN</td>\n",
              "      <td>56073</td>\n",
              "      <td>10/26/15 12:40</td>\n",
              "      <td>6.587300e+17</td>\n",
              "      <td>Texas Hill Country</td>\n",
              "      <td>NaN</td>\n",
              "    </tr>\n",
              "    <tr>\n",
              "      <th>20049</th>\n",
              "      <td>815757985</td>\n",
              "      <td>True</td>\n",
              "      <td>golden</td>\n",
              "      <td>249</td>\n",
              "      <td>NaN</td>\n",
              "      <td>female</td>\n",
              "      <td>1.0000</td>\n",
              "      <td>yes</td>\n",
              "      <td>1.0</td>\n",
              "      <td>4/14/14 17:22</td>\n",
              "      <td>Teamwork makes the dream work.</td>\n",
              "      <td>3348</td>\n",
              "      <td>female</td>\n",
              "      <td>0084B4</td>\n",
              "      <td>MeganFitz20</td>\n",
              "      <td>yes</td>\n",
              "      <td>https://pbs.twimg.com/profile_images/655134724...</td>\n",
              "      <td>0</td>\n",
              "      <td>C0DEED</td>\n",
              "      <td>I think for my APUSH creative project I'm goin...</td>\n",
              "      <td>NaN</td>\n",
              "      <td>2922</td>\n",
              "      <td>10/26/15 13:19</td>\n",
              "      <td>6.587400e+17</td>\n",
              "      <td>NaN</td>\n",
              "      <td>NaN</td>\n",
              "    </tr>\n",
              "  </tbody>\n",
              "</table>\n",
              "</div>"
            ],
            "text/plain": [
              "        _unit_id  _golden  ...      tweet_location  user_timezone\n",
              "20045  815757572     True  ...          Verona ªÁ            NaN\n",
              "20046  815757681     True  ...     Kansas City, MO            NaN\n",
              "20047  815757830     True  ...      Lagos Nigeria             NaN\n",
              "20048  815757921     True  ...  Texas Hill Country            NaN\n",
              "20049  815757985     True  ...                 NaN            NaN\n",
              "\n",
              "[5 rows x 26 columns]"
            ]
          },
          "metadata": {
            "tags": []
          },
          "execution_count": 80
        }
      ]
    },
    {
      "cell_type": "code",
      "metadata": {
        "id": "37QnVxCiVNbA",
        "colab_type": "code",
        "colab": {
          "base_uri": "https://localhost:8080/",
          "height": 598
        },
        "outputId": "dba05651-a29a-4f28-905c-dbdf95c2a646"
      },
      "source": [
        "raw_df.info()"
      ],
      "execution_count": 82,
      "outputs": [
        {
          "output_type": "stream",
          "text": [
            "<class 'pandas.core.frame.DataFrame'>\n",
            "RangeIndex: 20050 entries, 0 to 20049\n",
            "Data columns (total 26 columns):\n",
            " #   Column                 Non-Null Count  Dtype  \n",
            "---  ------                 --------------  -----  \n",
            " 0   _unit_id               20050 non-null  int64  \n",
            " 1   _golden                20050 non-null  bool   \n",
            " 2   _unit_state            20050 non-null  object \n",
            " 3   _trusted_judgments     20050 non-null  int64  \n",
            " 4   _last_judgment_at      20000 non-null  object \n",
            " 5   gender                 19953 non-null  object \n",
            " 6   gender:confidence      20024 non-null  float64\n",
            " 7   profile_yn             20050 non-null  object \n",
            " 8   profile_yn:confidence  20050 non-null  float64\n",
            " 9   created                20050 non-null  object \n",
            " 10  description            16306 non-null  object \n",
            " 11  fav_number             20050 non-null  int64  \n",
            " 12  gender_gold            50 non-null     object \n",
            " 13  link_color             20050 non-null  object \n",
            " 14  name                   20050 non-null  object \n",
            " 15  profile_yn_gold        50 non-null     object \n",
            " 16  profileimage           20050 non-null  object \n",
            " 17  retweet_count          20050 non-null  int64  \n",
            " 18  sidebar_color          20050 non-null  object \n",
            " 19  text                   20050 non-null  object \n",
            " 20  tweet_coord            159 non-null    object \n",
            " 21  tweet_count            20050 non-null  int64  \n",
            " 22  tweet_created          20050 non-null  object \n",
            " 23  tweet_id               20050 non-null  float64\n",
            " 24  tweet_location         12566 non-null  object \n",
            " 25  user_timezone          12252 non-null  object \n",
            "dtypes: bool(1), float64(3), int64(5), object(17)\n",
            "memory usage: 3.8+ MB\n"
          ],
          "name": "stdout"
        }
      ]
    },
    {
      "cell_type": "code",
      "metadata": {
        "id": "6hklkoYjJ0-R",
        "colab_type": "code",
        "colab": {
          "base_uri": "https://localhost:8080/",
          "height": 70
        },
        "outputId": "d05a27a6-d6e5-430e-d9f0-248678a56cfb"
      },
      "source": [
        "nltk.download('stopwords')"
      ],
      "execution_count": 14,
      "outputs": [
        {
          "output_type": "stream",
          "text": [
            "[nltk_data] Downloading package stopwords to /root/nltk_data...\n",
            "[nltk_data]   Unzipping corpora/stopwords.zip.\n"
          ],
          "name": "stdout"
        },
        {
          "output_type": "execute_result",
          "data": {
            "text/plain": [
              "True"
            ]
          },
          "metadata": {
            "tags": []
          },
          "execution_count": 14
        }
      ]
    },
    {
      "cell_type": "code",
      "metadata": {
        "id": "nEH6is5OIx3z",
        "colab_type": "code",
        "colab": {}
      },
      "source": [
        "stopwards_inc = set(stopwords.words(\"english\")+list(punctuation))"
      ],
      "execution_count": 30,
      "outputs": []
    },
    {
      "cell_type": "code",
      "metadata": {
        "id": "tMOhv3xuUusJ",
        "colab_type": "code",
        "colab": {}
      },
      "source": [
        "def tweet_processor(text):\n",
        "  tweet = re.sub('((www\\.[^\\s]+)|(https?://[^\\s]+))','URL',text.lower())\n",
        "  tweet = re.sub('@[^\\s]+','TAGEDUSER',tweet)\n",
        "  tweet = wt(tweet)\n",
        "  return \" \".join([w for w in tweet if w not in stopwards_inc])\n",
        "raw_df[\"processed\"] = raw_df[\"text\"].apply(tweet_processor)"
      ],
      "execution_count": 84,
      "outputs": []
    },
    {
      "cell_type": "code",
      "metadata": {
        "id": "zRAavZ41Wljl",
        "colab_type": "code",
        "colab": {
          "base_uri": "https://localhost:8080/",
          "height": 228
        },
        "outputId": "b8cf8ee0-a992-4a85-f502-41404d30f130"
      },
      "source": [
        "raw_df[\"processed\"]"
      ],
      "execution_count": 85,
      "outputs": [
        {
          "output_type": "execute_result",
          "data": {
            "text/plain": [
              "0        robbie e responds critics win eddie edwards wo...\n",
              "1        ûïit felt like friends living story themû U...\n",
              "2        absolutely adore louis starts songs hits hard ...\n",
              "3        hi TAGEDUSER looking url use TAGEDUSER n't typ...\n",
              "4        watching neighbours sky+ catching neighbs xxx ...\n",
              "                               ...                        \n",
              "20045                TAGEDUSER ... fine 'll drink tea love\n",
              "20046    greg hardy good player n't get face dez bryant...\n",
              "20047                     miss people still never want see\n",
              "20048    TAGEDUSER noticed tendency pee carpet n't want...\n",
              "20049    think apush creative project 'm going bring ba...\n",
              "Name: processed, Length: 20050, dtype: object"
            ]
          },
          "metadata": {
            "tags": []
          },
          "execution_count": 85
        }
      ]
    },
    {
      "cell_type": "code",
      "metadata": {
        "id": "LEoi1dnGWFqx",
        "colab_type": "code",
        "colab": {}
      },
      "source": [
        "x = cv().fit_transform(raw_df[\"processed\"].tolist())\n",
        "y = lc().fit_transform(raw_df['gender'].tolist())\n",
        "x_train, x_test, y_train, y_test = ttf(x, y, test_size=0.3)"
      ],
      "execution_count": 113,
      "outputs": []
    },
    {
      "cell_type": "code",
      "metadata": {
        "id": "ZuMrglLYIx3m",
        "colab_type": "code",
        "colab": {}
      },
      "source": [
        "mnb_inc=mnb().fit(x_train, y_train)"
      ],
      "execution_count": 114,
      "outputs": []
    },
    {
      "cell_type": "code",
      "metadata": {
        "id": "ecIaOEXkZBaj",
        "colab_type": "code",
        "colab": {
          "base_uri": "https://localhost:8080/",
          "height": 34
        },
        "outputId": "49187044-56f3-493b-a0e6-54c09c4c5328"
      },
      "source": [
        "print(mnb_inc.score(x_test, y_test))"
      ],
      "execution_count": 115,
      "outputs": [
        {
          "output_type": "stream",
          "text": [
            "0.5148794679966749\n"
          ],
          "name": "stdout"
        }
      ]
    },
    {
      "cell_type": "code",
      "metadata": {
        "id": "B37Fe0OIZBXG",
        "colab_type": "code",
        "colab": {
          "base_uri": "https://localhost:8080/",
          "height": 34
        },
        "outputId": "c2b2305a-9776-4152-d2c8-d7508431f8f2"
      },
      "source": [
        "mnb_inc."
      ],
      "execution_count": 107,
      "outputs": [
        {
          "output_type": "execute_result",
          "data": {
            "text/plain": [
              "array([0, 1, 2, 3, 4])"
            ]
          },
          "metadata": {
            "tags": []
          },
          "execution_count": 107
        }
      ]
    },
    {
      "cell_type": "code",
      "metadata": {
        "id": "859LBt4rKAhc",
        "colab_type": "code",
        "colab": {
          "base_uri": "https://localhost:8080/",
          "height": 70
        },
        "outputId": "548dd66b-cfb0-484a-ecd3-fb5b0da0a353"
      },
      "source": [
        "nltk.download('punkt')"
      ],
      "execution_count": 19,
      "outputs": [
        {
          "output_type": "stream",
          "text": [
            "[nltk_data] Downloading package punkt to /root/nltk_data...\n",
            "[nltk_data]   Unzipping tokenizers/punkt.zip.\n"
          ],
          "name": "stdout"
        },
        {
          "output_type": "execute_result",
          "data": {
            "text/plain": [
              "True"
            ]
          },
          "metadata": {
            "tags": []
          },
          "execution_count": 19
        }
      ]
    },
    {
      "cell_type": "code",
      "metadata": {
        "id": "tzMjAvqoIx4I",
        "colab_type": "code",
        "colab": {}
      },
      "source": [
        "df[\"processed\"] = df[~df.gender.isnull()].text.apply(tweet_processor)"
      ],
      "execution_count": 32,
      "outputs": []
    },
    {
      "cell_type": "code",
      "metadata": {
        "id": "ZnX9dW4UIx4X",
        "colab_type": "code",
        "colab": {}
      },
      "source": [
        "#tfidf vectorisation\n",
        "from sklearn.feature_extraction.text import TfidfVectorizer as tfv\n",
        "from sklearn.model_selection import train_test_split as ttf"
      ],
      "execution_count": 22,
      "outputs": []
    },
    {
      "cell_type": "code",
      "metadata": {
        "id": "U_3YBIApIx4d",
        "colab_type": "code",
        "colab": {}
      },
      "source": [
        "vector = tfv(sublinear_tf=True)\n",
        "vector.fit(np.array(df.iloc[:,3]).ravel())\n",
        "X = vector.transform(np.array(df.iloc[:,3]).ravel())\n",
        "Y = np.array(df.iloc[:,0]).ravel()"
      ],
      "execution_count": null,
      "outputs": []
    },
    {
      "cell_type": "code",
      "metadata": {
        "id": "0LsLz45ZIx4j",
        "colab_type": "code",
        "colab": {}
      },
      "source": [
        "X_train,X_test,Y_train,Y_test = ttf(X,Y,test_size=0.25,random_state=0)\n"
      ],
      "execution_count": null,
      "outputs": []
    },
    {
      "cell_type": "markdown",
      "metadata": {
        "id": "xWXwNGaOIx5L",
        "colab_type": "text"
      },
      "source": [
        "model training"
      ]
    },
    {
      "cell_type": "code",
      "metadata": {
        "id": "Pt5SRSanIx5N",
        "colab_type": "code",
        "colab": {}
      },
      "source": [
        "from sklearn.naive_bayes import MultinomialNB\n",
        "from sklearn.linear_model import LogisticRegression\n",
        "from sklearn.svm import SVC\n",
        "from sklearn.metrics import accuracy_score"
      ],
      "execution_count": 23,
      "outputs": []
    },
    {
      "cell_type": "code",
      "metadata": {
        "id": "1QyJd7FDIx5T",
        "colab_type": "code",
        "colab": {}
      },
      "source": [
        "NB_model = MultinomialNB()\n",
        "NB_model.fit(X_train,Y_train)"
      ],
      "execution_count": null,
      "outputs": []
    },
    {
      "cell_type": "code",
      "metadata": {
        "id": "h3LRzMujIx5a",
        "colab_type": "code",
        "colab": {}
      },
      "source": [
        "nb_pred = NB_model.predict(X_test)"
      ],
      "execution_count": null,
      "outputs": []
    },
    {
      "cell_type": "code",
      "metadata": {
        "id": "G0FR_jC4Ix5f",
        "colab_type": "code",
        "colab": {}
      },
      "source": [
        "accuracy_score(Y_test,nb_pred)"
      ],
      "execution_count": null,
      "outputs": []
    },
    {
      "cell_type": "code",
      "metadata": {
        "id": "AZhK9rfCIx5m",
        "colab_type": "code",
        "colab": {}
      },
      "source": [
        "LR_model = LogisticRegression(solver=\"lbfgs\")\n",
        "LR_model.fit(X_train,Y_train)"
      ],
      "execution_count": null,
      "outputs": []
    },
    {
      "cell_type": "code",
      "metadata": {
        "id": "gAyv-9UEIx5t",
        "colab_type": "code",
        "colab": {}
      },
      "source": [
        "lr_pred = LR_model.predict(X_test)"
      ],
      "execution_count": null,
      "outputs": []
    },
    {
      "cell_type": "code",
      "metadata": {
        "id": "2DF-oQveIx51",
        "colab_type": "code",
        "colab": {}
      },
      "source": [
        "accuracy_score(Y_test,lr_pred)"
      ],
      "execution_count": null,
      "outputs": []
    },
    {
      "cell_type": "code",
      "metadata": {
        "id": "hi7bow99Ix57",
        "colab_type": "code",
        "colab": {}
      },
      "source": [
        "LR_model.coef_"
      ],
      "execution_count": null,
      "outputs": []
    },
    {
      "cell_type": "code",
      "metadata": {
        "id": "sfmZm79yIx7D",
        "colab_type": "code",
        "colab": {}
      },
      "source": [
        "from "
      ],
      "execution_count": null,
      "outputs": []
    },
    {
      "cell_type": "code",
      "metadata": {
        "id": "wxaHVmb0Ix7n",
        "colab_type": "code",
        "colab": {}
      },
      "source": [
        "raw_df = pd.read_csv(\"Information.csv\",encoding=\"latin-1\")"
      ],
      "execution_count": 26,
      "outputs": []
    },
    {
      "cell_type": "code",
      "metadata": {
        "id": "GfH-NGEnIx78",
        "colab_type": "code",
        "colab": {
          "base_uri": "https://localhost:8080/",
          "height": 402
        },
        "outputId": "b3742529-47ca-40e2-92a3-6d4535c4c621"
      },
      "source": [
        "female = raw_df[raw_df[\"gender\"]==\"female\"].copy()\n",
        "male = raw_df[raw_df[\"gender\"]==\"male\"].copy()\n",
        "df = female.append(male).sample(frac=1).reset_index()\n",
        "df = raw_df[[\"gender\",\"text\"]].copy()\n",
        "df"
      ],
      "execution_count": 27,
      "outputs": [
        {
          "output_type": "execute_result",
          "data": {
            "text/html": [
              "<div>\n",
              "<style scoped>\n",
              "    .dataframe tbody tr th:only-of-type {\n",
              "        vertical-align: middle;\n",
              "    }\n",
              "\n",
              "    .dataframe tbody tr th {\n",
              "        vertical-align: top;\n",
              "    }\n",
              "\n",
              "    .dataframe thead th {\n",
              "        text-align: right;\n",
              "    }\n",
              "</style>\n",
              "<table border=\"1\" class=\"dataframe\">\n",
              "  <thead>\n",
              "    <tr style=\"text-align: right;\">\n",
              "      <th></th>\n",
              "      <th>gender</th>\n",
              "      <th>text</th>\n",
              "    </tr>\n",
              "  </thead>\n",
              "  <tbody>\n",
              "    <tr>\n",
              "      <th>0</th>\n",
              "      <td>male</td>\n",
              "      <td>Robbie E Responds To Critics After Win Against...</td>\n",
              "    </tr>\n",
              "    <tr>\n",
              "      <th>1</th>\n",
              "      <td>male</td>\n",
              "      <td>ÛÏIt felt like they were my friends and I was...</td>\n",
              "    </tr>\n",
              "    <tr>\n",
              "      <th>2</th>\n",
              "      <td>male</td>\n",
              "      <td>i absolutely adore when louis starts the songs...</td>\n",
              "    </tr>\n",
              "    <tr>\n",
              "      <th>3</th>\n",
              "      <td>male</td>\n",
              "      <td>Hi @JordanSpieth - Looking at the url - do you...</td>\n",
              "    </tr>\n",
              "    <tr>\n",
              "      <th>4</th>\n",
              "      <td>female</td>\n",
              "      <td>Watching Neighbours on Sky+ catching up with t...</td>\n",
              "    </tr>\n",
              "    <tr>\n",
              "      <th>...</th>\n",
              "      <td>...</td>\n",
              "      <td>...</td>\n",
              "    </tr>\n",
              "    <tr>\n",
              "      <th>20045</th>\n",
              "      <td>female</td>\n",
              "      <td>@lookupondeath ...Fine, and I'll drink tea too...</td>\n",
              "    </tr>\n",
              "    <tr>\n",
              "      <th>20046</th>\n",
              "      <td>male</td>\n",
              "      <td>Greg Hardy you a good player and all but don't...</td>\n",
              "    </tr>\n",
              "    <tr>\n",
              "      <th>20047</th>\n",
              "      <td>male</td>\n",
              "      <td>You can miss people and still never want to se...</td>\n",
              "    </tr>\n",
              "    <tr>\n",
              "      <th>20048</th>\n",
              "      <td>female</td>\n",
              "      <td>@bitemyapp i had noticed your tendency to pee ...</td>\n",
              "    </tr>\n",
              "    <tr>\n",
              "      <th>20049</th>\n",
              "      <td>female</td>\n",
              "      <td>I think for my APUSH creative project I'm goin...</td>\n",
              "    </tr>\n",
              "  </tbody>\n",
              "</table>\n",
              "<p>20050 rows × 2 columns</p>\n",
              "</div>"
            ],
            "text/plain": [
              "       gender                                               text\n",
              "0        male  Robbie E Responds To Critics After Win Against...\n",
              "1        male  ÛÏIt felt like they were my friends and I was...\n",
              "2        male  i absolutely adore when louis starts the songs...\n",
              "3        male  Hi @JordanSpieth - Looking at the url - do you...\n",
              "4      female  Watching Neighbours on Sky+ catching up with t...\n",
              "...       ...                                                ...\n",
              "20045  female  @lookupondeath ...Fine, and I'll drink tea too...\n",
              "20046    male  Greg Hardy you a good player and all but don't...\n",
              "20047    male  You can miss people and still never want to se...\n",
              "20048  female  @bitemyapp i had noticed your tendency to pee ...\n",
              "20049  female  I think for my APUSH creative project I'm goin...\n",
              "\n",
              "[20050 rows x 2 columns]"
            ]
          },
          "metadata": {
            "tags": []
          },
          "execution_count": 27
        }
      ]
    },
    {
      "cell_type": "code",
      "metadata": {
        "id": "PUvLAukUIx7R",
        "colab_type": "code",
        "colab": {}
      },
      "source": [
        ""
      ],
      "execution_count": null,
      "outputs": []
    },
    {
      "cell_type": "code",
      "metadata": {
        "id": "UbJCt22NIx7b",
        "colab_type": "code",
        "colab": {}
      },
      "source": [
        "from string import punctuation\n",
        "from nltk.corpus import stopwords\n",
        "from nltk import word_tokenize\n",
        "from nltk.corpus import reuters"
      ],
      "execution_count": 24,
      "outputs": []
    },
    {
      "cell_type": "code",
      "metadata": {
        "id": "cQ8dEGopIx7g",
        "colab_type": "code",
        "colab": {}
      },
      "source": [
        "import nltk\n",
        "from nltk.tokenize import word_tokenize as wt\n",
        "from nltk.tokenize import sent_tokenize as st\n",
        "from nltk.corpus import stopwords\n",
        "from string import punctuation"
      ],
      "execution_count": 25,
      "outputs": []
    },
    {
      "cell_type": "code",
      "metadata": {
        "id": "ZyEhqD3wIx4O",
        "colab_type": "code",
        "colab": {
          "base_uri": "https://localhost:8080/",
          "height": 279
        },
        "outputId": "123011e6-3dbe-4165-ae78-f042b89f9e6c"
      },
      "source": [
        "df.head()"
      ],
      "execution_count": 33,
      "outputs": [
        {
          "output_type": "execute_result",
          "data": {
            "text/html": [
              "<div>\n",
              "<style scoped>\n",
              "    .dataframe tbody tr th:only-of-type {\n",
              "        vertical-align: middle;\n",
              "    }\n",
              "\n",
              "    .dataframe tbody tr th {\n",
              "        vertical-align: top;\n",
              "    }\n",
              "\n",
              "    .dataframe thead th {\n",
              "        text-align: right;\n",
              "    }\n",
              "</style>\n",
              "<table border=\"1\" class=\"dataframe\">\n",
              "  <thead>\n",
              "    <tr style=\"text-align: right;\">\n",
              "      <th></th>\n",
              "      <th>gender</th>\n",
              "      <th>text</th>\n",
              "      <th>processed</th>\n",
              "    </tr>\n",
              "  </thead>\n",
              "  <tbody>\n",
              "    <tr>\n",
              "      <th>0</th>\n",
              "      <td>male</td>\n",
              "      <td>Robbie E Responds To Critics After Win Against...</td>\n",
              "      <td>robbie e responds critics win eddie edwards wo...</td>\n",
              "    </tr>\n",
              "    <tr>\n",
              "      <th>1</th>\n",
              "      <td>male</td>\n",
              "      <td>ÛÏIt felt like they were my friends and I was...</td>\n",
              "      <td>ûïit felt like friends living story themû U...</td>\n",
              "    </tr>\n",
              "    <tr>\n",
              "      <th>2</th>\n",
              "      <td>male</td>\n",
              "      <td>i absolutely adore when louis starts the songs...</td>\n",
              "      <td>absolutely adore louis starts songs hits hard ...</td>\n",
              "    </tr>\n",
              "    <tr>\n",
              "      <th>3</th>\n",
              "      <td>male</td>\n",
              "      <td>Hi @JordanSpieth - Looking at the url - do you...</td>\n",
              "      <td>hi TAGEDUSER looking url use TAGEDUSER n't typ...</td>\n",
              "    </tr>\n",
              "    <tr>\n",
              "      <th>4</th>\n",
              "      <td>female</td>\n",
              "      <td>Watching Neighbours on Sky+ catching up with t...</td>\n",
              "      <td>watching neighbours sky+ catching neighbs xxx ...</td>\n",
              "    </tr>\n",
              "  </tbody>\n",
              "</table>\n",
              "</div>"
            ],
            "text/plain": [
              "   gender  ...                                          processed\n",
              "0    male  ...  robbie e responds critics win eddie edwards wo...\n",
              "1    male  ...  ûïit felt like friends living story themû U...\n",
              "2    male  ...  absolutely adore louis starts songs hits hard ...\n",
              "3    male  ...  hi TAGEDUSER looking url use TAGEDUSER n't typ...\n",
              "4  female  ...  watching neighbours sky+ catching neighbs xxx ...\n",
              "\n",
              "[5 rows x 3 columns]"
            ]
          },
          "metadata": {
            "tags": []
          },
          "execution_count": 33
        }
      ]
    },
    {
      "cell_type": "code",
      "metadata": {
        "id": "gUIgEWXfL7Gb",
        "colab_type": "code",
        "colab": {}
      },
      "source": [
        "df.to_csv(\"processsed.csv\")"
      ],
      "execution_count": 39,
      "outputs": []
    },
    {
      "cell_type": "code",
      "metadata": {
        "id": "IZdQmuZSK1sc",
        "colab_type": "code",
        "colab": {}
      },
      "source": [
        "import turicreate"
      ],
      "execution_count": 36,
      "outputs": []
    },
    {
      "cell_type": "code",
      "metadata": {
        "id": "7zwdKrDXLzat",
        "colab_type": "code",
        "colab": {
          "base_uri": "https://localhost:8080/",
          "height": 207
        },
        "outputId": "fc3a8333-ff56-4524-feb5-a121982902dc"
      },
      "source": [
        "df = turicreate.SFrame.read_csv(\"processsed.csv\")"
      ],
      "execution_count": 41,
      "outputs": [
        {
          "output_type": "display_data",
          "data": {
            "text/html": [
              "<pre>Finished parsing file /content/processsed.csv</pre>"
            ],
            "text/plain": [
              "Finished parsing file /content/processsed.csv"
            ]
          },
          "metadata": {
            "tags": []
          }
        },
        {
          "output_type": "display_data",
          "data": {
            "text/html": [
              "<pre>Parsing completed. Parsed 100 lines in 0.129072 secs.</pre>"
            ],
            "text/plain": [
              "Parsing completed. Parsed 100 lines in 0.129072 secs."
            ]
          },
          "metadata": {
            "tags": []
          }
        },
        {
          "output_type": "stream",
          "text": [
            "------------------------------------------------------\n",
            "Inferred types from first 100 line(s) of file as \n",
            "column_type_hints=[int,str,str,str]\n",
            "If parsing fails due to incorrect types, you can correct\n",
            "the inferred type list above and pass it to read_csv in\n",
            "the column_type_hints argument\n",
            "------------------------------------------------------\n"
          ],
          "name": "stdout"
        },
        {
          "output_type": "display_data",
          "data": {
            "text/html": [
              "<pre>Finished parsing file /content/processsed.csv</pre>"
            ],
            "text/plain": [
              "Finished parsing file /content/processsed.csv"
            ]
          },
          "metadata": {
            "tags": []
          }
        },
        {
          "output_type": "display_data",
          "data": {
            "text/html": [
              "<pre>Parsing completed. Parsed 19953 lines in 0.076684 secs.</pre>"
            ],
            "text/plain": [
              "Parsing completed. Parsed 19953 lines in 0.076684 secs."
            ]
          },
          "metadata": {
            "tags": []
          }
        }
      ]
    },
    {
      "cell_type": "code",
      "metadata": {
        "id": "OXyQTpxrLni5",
        "colab_type": "code",
        "colab": {}
      },
      "source": [
        "df[\"word_count\"] = turicreate.text_analytics.count_words(df[\"processed\"])"
      ],
      "execution_count": 42,
      "outputs": []
    },
    {
      "cell_type": "code",
      "metadata": {
        "id": "G0ODQLjqMQpk",
        "colab_type": "code",
        "colab": {}
      },
      "source": [
        "df['tfidf'] = turicreate.text_analytics.tf_idf(df[\"word_count\"])"
      ],
      "execution_count": 46,
      "outputs": []
    },
    {
      "cell_type": "code",
      "metadata": {
        "id": "g1LjTXTXMq2s",
        "colab_type": "code",
        "colab": {}
      },
      "source": [
        "knn_model = turicreate.logistic_classifier.create(df,features=\"tfidf\",target=\"gender\")"
      ],
      "execution_count": null,
      "outputs": []
    },
    {
      "cell_type": "code",
      "metadata": {
        "id": "sruzUAaVOloy",
        "colab_type": "code",
        "colab": {
          "base_uri": "https://localhost:8080/",
          "height": 402
        },
        "outputId": "88d4a947-3d03-46f9-de8f-cbc9309a2e91"
      },
      "source": [
        "tfidf = {}\n",
        "df[\"tfidf\"].apply(lambda x:tfidf.update(x))\n",
        "tfidf = pd.DataFrame.from_dict(tfidf,orient=\"index\")\n",
        "tfidf.sort_values(by=0,ascending=False)"
      ],
      "execution_count": 118,
      "outputs": [
        {
          "output_type": "execute_result",
          "data": {
            "text/html": [
              "<div>\n",
              "<style scoped>\n",
              "    .dataframe tbody tr th:only-of-type {\n",
              "        vertical-align: middle;\n",
              "    }\n",
              "\n",
              "    .dataframe tbody tr th {\n",
              "        vertical-align: top;\n",
              "    }\n",
              "\n",
              "    .dataframe thead th {\n",
              "        text-align: right;\n",
              "    }\n",
              "</style>\n",
              "<table border=\"1\" class=\"dataframe\">\n",
              "  <thead>\n",
              "    <tr style=\"text-align: right;\">\n",
              "      <th></th>\n",
              "      <th>0</th>\n",
              "    </tr>\n",
              "  </thead>\n",
              "  <tbody>\n",
              "    <tr>\n",
              "      <th>ù÷â</th>\n",
              "      <td>60.267186</td>\n",
              "    </tr>\n",
              "    <tr>\n",
              "      <th>unbrick</th>\n",
              "      <td>19.802270</td>\n",
              "    </tr>\n",
              "    <tr>\n",
              "      <th>mcd</th>\n",
              "      <td>19.802270</td>\n",
              "    </tr>\n",
              "    <tr>\n",
              "      <th>ù÷ä</th>\n",
              "      <td>18.636766</td>\n",
              "    </tr>\n",
              "    <tr>\n",
              "      <th>scum</th>\n",
              "      <td>18.415975</td>\n",
              "    </tr>\n",
              "    <tr>\n",
              "      <th>...</th>\n",
              "      <td>...</td>\n",
              "    </tr>\n",
              "    <tr>\n",
              "      <th>n</th>\n",
              "      <td>2.515284</td>\n",
              "    </tr>\n",
              "    <tr>\n",
              "      <th>s</th>\n",
              "      <td>2.241020</td>\n",
              "    </tr>\n",
              "    <tr>\n",
              "      <th>get</th>\n",
              "      <td>2.194522</td>\n",
              "    </tr>\n",
              "    <tr>\n",
              "      <th>tageduser</th>\n",
              "      <td>1.101322</td>\n",
              "    </tr>\n",
              "    <tr>\n",
              "      <th>url</th>\n",
              "      <td>1.000586</td>\n",
              "    </tr>\n",
              "  </tbody>\n",
              "</table>\n",
              "<p>665 rows × 1 columns</p>\n",
              "</div>"
            ],
            "text/plain": [
              "                   0\n",
              "ù÷â        60.267186\n",
              "unbrick    19.802270\n",
              "mcd        19.802270\n",
              "ù÷ä        18.636766\n",
              "scum       18.415975\n",
              "...              ...\n",
              "n           2.515284\n",
              "s           2.241020\n",
              "get         2.194522\n",
              "tageduser   1.101322\n",
              "url         1.000586\n",
              "\n",
              "[665 rows x 1 columns]"
            ]
          },
          "metadata": {
            "tags": []
          },
          "execution_count": 118
        }
      ]
    },
    {
      "cell_type": "code",
      "metadata": {
        "id": "O4TxybkkPhWT",
        "colab_type": "code",
        "colab": {
          "base_uri": "https://localhost:8080/",
          "height": 90
        },
        "outputId": "cc318be6-685e-41f7-9d5f-2697048b3ba1"
      },
      "source": [
        "tfidf_female = {}\n",
        "df[df[\"gender\"]==\"female\"][\"tfidf\"].apply(lambda x:tfidf_female.update(x))"
      ],
      "execution_count": 60,
      "outputs": [
        {
          "output_type": "execute_result",
          "data": {
            "text/plain": [
              "dtype: float\n",
              "Rows: 19953\n",
              "[None, None, None, None, None, None, None, None, None, None, None, None, None, None, None, None, None, None, None, None, None, None, None, None, None, None, None, None, None, None, None, None, None, None, None, None, None, None, None, None, None, None, None, None, None, None, None, None, None, None, None, None, None, None, None, None, None, None, None, None, None, None, None, None, None, None, None, None, None, None, None, None, None, None, None, None, None, None, None, None, None, None, None, None, None, None, None, None, None, None, None, None, None, None, None, None, None, None, None, None, ... ]"
            ]
          },
          "metadata": {
            "tags": []
          },
          "execution_count": 60
        }
      ]
    },
    {
      "cell_type": "code",
      "metadata": {
        "id": "DsImX-RiPMti",
        "colab_type": "code",
        "colab": {
          "base_uri": "https://localhost:8080/",
          "height": 402
        },
        "outputId": "6db48dd1-dfea-433b-c065-4e94948d9e7b"
      },
      "source": [
        "male_words = pd.DataFrame.from_dict(tfidf_male,orient=\"index\")\n",
        "male_words.sort_values(by=0,ascending=False)"
      ],
      "execution_count": 76,
      "outputs": [
        {
          "output_type": "execute_result",
          "data": {
            "text/html": [
              "<div>\n",
              "<style scoped>\n",
              "    .dataframe tbody tr th:only-of-type {\n",
              "        vertical-align: middle;\n",
              "    }\n",
              "\n",
              "    .dataframe tbody tr th {\n",
              "        vertical-align: top;\n",
              "    }\n",
              "\n",
              "    .dataframe thead th {\n",
              "        text-align: right;\n",
              "    }\n",
              "</style>\n",
              "<table border=\"1\" class=\"dataframe\">\n",
              "  <thead>\n",
              "    <tr style=\"text-align: right;\">\n",
              "      <th></th>\n",
              "      <th>0</th>\n",
              "    </tr>\n",
              "  </thead>\n",
              "  <tbody>\n",
              "    <tr>\n",
              "      <th>ùôà</th>\n",
              "      <td>25.544521</td>\n",
              "    </tr>\n",
              "    <tr>\n",
              "      <th>ù÷â</th>\n",
              "      <td>20.089062</td>\n",
              "    </tr>\n",
              "    <tr>\n",
              "      <th>unbrick</th>\n",
              "      <td>19.802270</td>\n",
              "    </tr>\n",
              "    <tr>\n",
              "      <th>bluewater</th>\n",
              "      <td>19.802270</td>\n",
              "    </tr>\n",
              "    <tr>\n",
              "      <th>colt</th>\n",
              "      <td>17.605045</td>\n",
              "    </tr>\n",
              "    <tr>\n",
              "      <th>...</th>\n",
              "      <td>...</td>\n",
              "    </tr>\n",
              "    <tr>\n",
              "      <th>n</th>\n",
              "      <td>2.515284</td>\n",
              "    </tr>\n",
              "    <tr>\n",
              "      <th>s</th>\n",
              "      <td>2.241020</td>\n",
              "    </tr>\n",
              "    <tr>\n",
              "      <th>tageduser</th>\n",
              "      <td>2.202645</td>\n",
              "    </tr>\n",
              "    <tr>\n",
              "      <th>get</th>\n",
              "      <td>2.194522</td>\n",
              "    </tr>\n",
              "    <tr>\n",
              "      <th>url</th>\n",
              "      <td>1.000586</td>\n",
              "    </tr>\n",
              "  </tbody>\n",
              "</table>\n",
              "<p>681 rows × 1 columns</p>\n",
              "</div>"
            ],
            "text/plain": [
              "                   0\n",
              "ùôà        25.544521\n",
              "ù÷â        20.089062\n",
              "unbrick    19.802270\n",
              "bluewater  19.802270\n",
              "colt       17.605045\n",
              "...              ...\n",
              "n           2.515284\n",
              "s           2.241020\n",
              "tageduser   2.202645\n",
              "get         2.194522\n",
              "url         1.000586\n",
              "\n",
              "[681 rows x 1 columns]"
            ]
          },
          "metadata": {
            "tags": []
          },
          "execution_count": 76
        }
      ]
    }
  ]
}